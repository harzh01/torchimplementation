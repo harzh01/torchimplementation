{
  "nbformat": 4,
  "nbformat_minor": 0,
  "metadata": {
    "colab": {
      "provenance": [],
      "gpuType": "T4"
    },
    "kernelspec": {
      "name": "python3",
      "display_name": "Python 3"
    },
    "language_info": {
      "name": "python"
    },
    "accelerator": "GPU"
  },
  "cells": [
    {
      "cell_type": "code",
      "execution_count": 1,
      "metadata": {
        "id": "2yyfW1rKkW39"
      },
      "outputs": [],
      "source": [
        "import torch\n",
        "import torch.nn as nn\n",
        "import torch.nn.functional as F\n",
        "import torch.optim as optim\n",
        "from torchvision import datasets, transforms\n",
        "import matplotlib.pyplot as plt"
      ]
    },
    {
      "cell_type": "code",
      "source": [
        "class LargeModel(nn.Module):\n",
        "    def __init__(self):\n",
        "        super(LargeModel, self).__init__()\n",
        "        self.fc1 = nn.Linear(28 * 28, 1200)\n",
        "        self.fc2 = nn.Linear(1200, 1200)\n",
        "        self.fc3 = nn.Linear(1200, 10)\n",
        "        self.dropout = nn.Dropout2d(0.5)\n",
        "\n",
        "    def forward(self, x):\n",
        "        x = torch.flatten(x, 1)\n",
        "        x = F.relu(self.fc1(x))\n",
        "        x = self.dropout(x)\n",
        "        x = F.relu(self.fc2(x))\n",
        "        x = self.dropout(x)\n",
        "        out = self.fc3(x)\n",
        "        return out\n",
        "\n",
        "class DistilModel(nn.Module):\n",
        "    def __init__(self):\n",
        "        super(DistilModel, self).__init__()\n",
        "        self.fc1 = nn.Linear(28 * 28, 800)\n",
        "        self.fc2 = nn.Linear(800, 800)\n",
        "        self.fc3 = nn.Linear(800, 10)\n",
        "\n",
        "    def forward(self, x):\n",
        "        x = torch.flatten(x, 1)\n",
        "        x = F.relu(self.fc1(x))\n",
        "        x = F.relu(self.fc2(x))\n",
        "        out = self.fc3(x)\n",
        "        return out\n"
      ],
      "metadata": {
        "id": "SuW_IW8Dkaxc"
      },
      "execution_count": 2,
      "outputs": []
    },
    {
      "cell_type": "code",
      "source": [
        "def train_large(model, train_loader, optimizer, epochs, device):\n",
        "    model.train()\n",
        "    loss_arr = []\n",
        "\n",
        "    for e in range(epochs):\n",
        "        epoch_loss = 0\n",
        "        for data, label in train_loader:\n",
        "            data, label = data.to(device), label.to(device)\n",
        "            optimizer.zero_grad()\n",
        "            out = model(data)\n",
        "            loss = F.cross_entropy(out, label)\n",
        "            loss.backward()\n",
        "            optimizer.step()\n",
        "            epoch_loss += loss.item()\n",
        "\n",
        "        loss_arr.append(epoch_loss)\n",
        "        print(f'Epoch {e+1}/{epochs}, Loss: {epoch_loss:.4f}')\n",
        "\n",
        "    plt.plot(loss_arr)\n",
        "    plt.title('Training Loss - Large Model')\n",
        "    plt.xlabel('Epoch')\n",
        "    plt.ylabel('Loss')\n",
        "    plt.show()\n",
        "\n",
        "def train_distil(large_model, distil_model, train_loader, optimizer, loss_fn, device, epochs=10, temp=20, distil_weight=0.7):\n",
        "    large_model.eval()\n",
        "    distil_model.train()\n",
        "    loss_arr = []\n",
        "\n",
        "    for e in range(epochs):\n",
        "        epoch_loss = 0\n",
        "        for data, label in train_loader:\n",
        "            data, label = data.to(device), label.to(device)\n",
        "            optimizer.zero_grad()\n",
        "\n",
        "            with torch.no_grad():\n",
        "                soft_label = F.softmax(large_model(data) / temp, dim=1)\n",
        "\n",
        "            out = distil_model(data)\n",
        "            soft_out = F.softmax(out / temp, dim=1)\n",
        "\n",
        "            loss = (1 - distil_weight) * F.cross_entropy(out, label) + distil_weight * loss_fn(soft_out, soft_label)\n",
        "            loss.backward()\n",
        "            optimizer.step()\n",
        "            epoch_loss += loss.item()\n",
        "\n",
        "        loss_arr.append(epoch_loss)\n",
        "        print(f'Epoch {e+1}/{epochs}, Loss: {epoch_loss:.4f}')\n",
        "\n",
        "    plt.plot(loss_arr)\n",
        "    plt.title('Training Loss - Distil Model')\n",
        "    plt.xlabel('Epoch')\n",
        "    plt.ylabel('Loss')\n",
        "    plt.show()\n"
      ],
      "metadata": {
        "id": "cpP3jSghkkS-"
      },
      "execution_count": 11,
      "outputs": []
    },
    {
      "cell_type": "code",
      "source": [
        "def evaluate(model, data_loader, device):\n",
        "    model.eval()\n",
        "    correct = 0\n",
        "    total = len(data_loader.dataset)\n",
        "\n",
        "    with torch.no_grad():\n",
        "        for data, target in data_loader:\n",
        "            data, target = data.to(device), target.to(device)\n",
        "            output = model(data)\n",
        "            pred = output.argmax(dim=1, keepdim=True)\n",
        "            correct += pred.eq(target.view_as(pred)).sum().item()\n",
        "\n",
        "    accuracy = correct / total\n",
        "    print(f'Accuracy: {accuracy:.4f} ({correct}/{total})')\n",
        "    return accuracy"
      ],
      "metadata": {
        "id": "-59D16k2knO7"
      },
      "execution_count": 4,
      "outputs": []
    },
    {
      "cell_type": "code",
      "source": [
        "def main():\n",
        "    device = torch.device('cuda' if torch.cuda.is_available() else 'cpu')\n",
        "\n",
        "    batch_size = 100\n",
        "\n",
        "    train_loader = torch.utils.data.DataLoader(\n",
        "        datasets.MNIST('../data', train=True, download=True,\n",
        "                       transform=transforms.Compose([\n",
        "                           transforms.ToTensor(),\n",
        "                           transforms.Normalize((0.1307,), (0.3081,))\n",
        "                       ])),\n",
        "        batch_size=batch_size, shuffle=True)\n",
        "\n",
        "    test_loader = torch.utils.data.DataLoader(\n",
        "        datasets.MNIST('../data', train=False, transform=transforms.Compose([\n",
        "                           transforms.ToTensor(),\n",
        "                           transforms.Normalize((0.1307,), (0.3081,))\n",
        "                       ])),\n",
        "        batch_size=batch_size, shuffle=True)\n",
        "\n",
        "    large_model = LargeModel().to(device)\n",
        "    optimizer_large = optim.SGD(large_model.parameters(), lr=0.01, momentum=0.9)\n",
        "    epochs = 20\n",
        "\n",
        "    print(\"Training Large Model...\")\n",
        "    train_large(large_model, train_loader, optimizer_large, epochs, device)\n",
        "    print(\"Evaluating Large Model...\")\n",
        "    evaluate(large_model, test_loader, device)\n",
        "\n",
        "    distil_model = DistilModel().to(device)\n",
        "    optimizer_distil = optim.SGD(distil_model.parameters(), lr=0.01, momentum=0.9)\n",
        "    loss_fn = nn.MSELoss()\n",
        "\n",
        "    print(\"Training Distil Model...\")\n",
        "    train_distil(\n",
        "        large_model=large_model,\n",
        "        distil_model=distil_model,\n",
        "        train_loader=train_loader,\n",
        "        optimizer=optimizer_distil,\n",
        "        loss_fn=loss_fn,\n",
        "        device=device,\n",
        "        epochs=epochs,        # Here 'epochs' is specified as a keyword argument\n",
        "        temp=20,              # Specify 'temp' as a keyword argument\n",
        "        distil_weight=0.7     # Specify 'distil_weight' as a keyword argument\n",
        "    )\n",
        "    print(\"Evaluating Distil Model...\")\n",
        "    evaluate(distil_model, test_loader, device)\n",
        "\n",
        "if __name__ == '__main__':\n",
        "    main()\n"
      ],
      "metadata": {
        "colab": {
          "base_uri": "https://localhost:8080/",
          "height": 1000
        },
        "id": "r8oBezfnkpSY",
        "outputId": "52a31465-f09e-49b3-88c9-ada6a3358852"
      },
      "execution_count": 12,
      "outputs": [
        {
          "output_type": "stream",
          "name": "stdout",
          "text": [
            "Training Large Model...\n",
            "Epoch 1/20, Loss: 237.7750\n",
            "Epoch 2/20, Loss: 95.9459\n",
            "Epoch 3/20, Loss: 70.9531\n",
            "Epoch 4/20, Loss: 56.0603\n",
            "Epoch 5/20, Loss: 47.2176\n",
            "Epoch 6/20, Loss: 41.7125\n",
            "Epoch 7/20, Loss: 35.0999\n",
            "Epoch 8/20, Loss: 32.0292\n",
            "Epoch 9/20, Loss: 28.0985\n",
            "Epoch 10/20, Loss: 26.3362\n",
            "Epoch 11/20, Loss: 23.2467\n",
            "Epoch 12/20, Loss: 20.7724\n",
            "Epoch 13/20, Loss: 19.7880\n",
            "Epoch 14/20, Loss: 18.7296\n",
            "Epoch 15/20, Loss: 16.8140\n",
            "Epoch 16/20, Loss: 15.3899\n",
            "Epoch 17/20, Loss: 13.8318\n",
            "Epoch 18/20, Loss: 13.5256\n",
            "Epoch 19/20, Loss: 12.9196\n",
            "Epoch 20/20, Loss: 11.7194\n"
          ]
        },
        {
          "output_type": "display_data",
          "data": {
            "text/plain": [
              "<Figure size 640x480 with 1 Axes>"
            ],
            "image/png": "[encoded data removed]"
          },
          "metadata": {}
        },
        {
          "output_type": "stream",
          "name": "stdout",
          "text": [
            "Evaluating Large Model...\n",
            "Accuracy: 0.9843 (9843/10000)\n",
            "Training Distil Model...\n",
            "Epoch 1/20, Loss: 98.8256\n",
            "Epoch 2/20, Loss: 40.7568\n",
            "Epoch 3/20, Loss: 30.3450\n",
            "Epoch 4/20, Loss: 23.9033\n",
            "Epoch 5/20, Loss: 19.6053\n",
            "Epoch 6/20, Loss: 16.5011\n",
            "Epoch 7/20, Loss: 14.0091\n",
            "Epoch 8/20, Loss: 11.9761\n",
            "Epoch 9/20, Loss: 10.3565\n",
            "Epoch 10/20, Loss: 9.0544\n",
            "Epoch 11/20, Loss: 7.9416\n",
            "Epoch 12/20, Loss: 6.9615\n",
            "Epoch 13/20, Loss: 6.1393\n",
            "Epoch 14/20, Loss: 5.3630\n",
            "Epoch 15/20, Loss: 4.7338\n",
            "Epoch 16/20, Loss: 4.1779\n",
            "Epoch 17/20, Loss: 3.6282\n",
            "Epoch 18/20, Loss: 3.2432\n",
            "Epoch 19/20, Loss: 2.9173\n",
            "Epoch 20/20, Loss: 2.5106\n"
          ]
        },
        {
          "output_type": "display_data",
          "data": {
            "text/plain": [
              "<Figure size 640x480 with 1 Axes>"
            ],
            "image/png": "[encoded data removed]"
          },
          "metadata": {}
        },
        {
          "output_type": "stream",
          "name": "stdout",
          "text": [
            "Evaluating Distil Model...\n",
            "Accuracy: 0.9805 (9805/10000)\n"
          ]
        }
      ]
    },
    {
      "cell_type": "code",
      "source": [],
      "metadata": {
        "id": "TFDv3CxEkt1J"
      },
      "execution_count": null,
      "outputs": []
    }
  ]
}